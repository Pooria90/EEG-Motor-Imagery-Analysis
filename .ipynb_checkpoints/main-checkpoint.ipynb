{
 "cells": [
  {
   "cell_type": "code",
   "execution_count": null,
   "metadata": {},
   "outputs": [],
   "source": [
    "# in case of using colab or any other online platform run this cell\n",
    "\n",
    "!git clone https://github.com/Pooria90/EEG-Motor-Imagery-Analysis.git\n",
    "\n",
    "import os\n",
    "os.chdir('./EEG-Motor-Imagery-Analysis')"
   ]
  },
  {
   "cell_type": "markdown",
   "metadata": {},
   "source": [
    "# Data"
   ]
  },
  {
   "cell_type": "markdown",
   "metadata": {},
   "source": [
    "## Download dataset"
   ]
  },
  {
   "cell_type": "code",
   "execution_count": 1,
   "metadata": {},
   "outputs": [
    {
     "name": "stdout",
     "output_type": "stream",
     "text": [
      "Subjects [1 2 3 4 5 6 7 8 9] are now in data\n"
     ]
    }
   ],
   "source": [
    "from datautils import downloader\n",
    "\n",
    "path  = 'data'\n",
    "dpath = downloader(path, subjects=list(range(1,10)))"
   ]
  },
  {
   "cell_type": "markdown",
   "metadata": {},
   "source": [
    "## Extracting .mat files"
   ]
  },
  {
   "cell_type": "code",
   "execution_count": 2,
   "metadata": {},
   "outputs": [
    {
     "name": "stdout",
     "output_type": "stream",
     "text": [
      "*** Shapes ***\n",
      "x_train:\t(288, 22, 1000)\n",
      "y_train:\t(288,)\n",
      "x_test:\t\t(288, 22, 1000)\n",
      "y_test:\t\t(288,)\n"
     ]
    }
   ],
   "source": [
    "from datautils import mat_extractor\n",
    "\n",
    "tr_name = 'A01T.mat'\n",
    "te_name = 'A01E.mat'\n",
    "x_train, y_train = mat_extractor(path=dpath/tr_name)\n",
    "x_test , y_test  = mat_extractor(path=dpath/te_name)\n",
    "\n",
    "print (f'*** Shapes ***\\nx_train:\\t{x_train.shape}\\ny_train:\\t{y_train.shape}')\n",
    "print (f'x_test:\\t\\t{x_test.shape}\\ny_test:\\t\\t{y_test.shape}')"
   ]
  },
  {
   "cell_type": "markdown",
   "metadata": {},
   "source": [
    "## cropping for augmentation"
   ]
  },
  {
   "cell_type": "code",
   "execution_count": 3,
   "metadata": {},
   "outputs": [
    {
     "name": "stdout",
     "output_type": "stream",
     "text": [
      "*** Shapes ***\n",
      "x_train:\t(576, 22, 500)\n",
      "y_train:\t(576,)\n",
      "x_test:\t\t(576, 22, 500)\n",
      "y_test:\t\t(576,)\n"
     ]
    }
   ],
   "source": [
    "from datautils import cropper\n",
    "\n",
    "x_train, y_train = cropper(x_train, y_train, window=500, step=500)\n",
    "x_test , y_test  = cropper(x_test , y_test, window=500, step=500)\n",
    "\n",
    "print (f'*** Shapes ***\\nx_train:\\t{x_train.shape}\\ny_train:\\t{y_train.shape}')\n",
    "print (f'x_test:\\t\\t{x_test.shape}\\ny_test:\\t\\t{y_test.shape}')"
   ]
  },
  {
   "cell_type": "markdown",
   "metadata": {},
   "source": [
    "## Split for validation"
   ]
  },
  {
   "cell_type": "code",
   "execution_count": 4,
   "metadata": {},
   "outputs": [
    {
     "name": "stdout",
     "output_type": "stream",
     "text": [
      "(432, 22, 500) (144, 22, 500)\n"
     ]
    }
   ],
   "source": [
    "from sklearn.model_selection import train_test_split\n",
    "\n",
    "x_tr, x_va, y_tr, y_va = train_test_split(x_train, y_train-1, test_size=0.25, random_state=216, shuffle=True)\n",
    "\n",
    "print (x_tr.shape, x_va.shape)"
   ]
  },
  {
   "cell_type": "markdown",
   "metadata": {},
   "source": [
    "# EEGNet"
   ]
  },
  {
   "cell_type": "code",
   "execution_count": 5,
   "metadata": {},
   "outputs": [
    {
     "name": "stdout",
     "output_type": "stream",
     "text": [
      "torch.Size([432, 1, 22, 500]) torch.Size([144, 1, 22, 500])\n"
     ]
    }
   ],
   "source": [
    "import numpy as np\n",
    "import torch\n",
    "\n",
    "# adding a second dimension, becasue we have Conv2d in our structure\n",
    "x_tr = np.expand_dims(x_tr, axis=1)\n",
    "x_va = np.expand_dims(x_va, axis=1)\n",
    "\n",
    "x_tr, x_va, y_tr, y_va = map(torch.tensor, [x_tr, x_va, y_tr, y_va])\n",
    "print (x_tr.shape, x_va.shape)"
   ]
  },
  {
   "cell_type": "markdown",
   "metadata": {},
   "source": [
    "## Simple training loop"
   ]
  },
  {
   "cell_type": "code",
   "execution_count": 6,
   "metadata": {},
   "outputs": [
    {
     "name": "stdout",
     "output_type": "stream",
     "text": [
      "*** Epoch: 1 ***\n",
      "Train Loss: 1.3884 --- Train Acc 22.45\n",
      "Valid Loss: 1.3852 --- Valid Acc: 27.08\n",
      "*** Epoch: 10 ***\n",
      "Train Loss: 1.2168 --- Train Acc 49.54\n",
      "Valid Loss: 1.2511 --- Valid Acc: 43.75\n",
      "*** Epoch: 20 ***\n",
      "Train Loss: 1.0169 --- Train Acc 56.94\n",
      "Valid Loss: 1.0740 --- Valid Acc: 47.22\n",
      "*** Epoch: 30 ***\n",
      "Train Loss: 0.9341 --- Train Acc 61.81\n",
      "Valid Loss: 1.0249 --- Valid Acc: 50.69\n",
      "*** Epoch: 40 ***\n",
      "Train Loss: 0.8970 --- Train Acc 63.19\n",
      "Valid Loss: 0.9959 --- Valid Acc: 54.17\n",
      "*** Epoch: 50 ***\n",
      "Train Loss: 0.8343 --- Train Acc 66.44\n",
      "Valid Loss: 0.9681 --- Valid Acc: 54.17\n"
     ]
    }
   ],
   "source": [
    "from models import EEGNet\n",
    "from fitting import train\n",
    "\n",
    "if torch.cuda.is_available():\n",
    "    target_device = 'cuda'\n",
    "else:\n",
    "    target_device = 'cpu'\n",
    "    \n",
    "model = EEGNet().to(target_device)\n",
    "hist = train(model, x_tr, y_tr, x_va, y_va, batch_size=144, epochs=50, learning_rate=0.001, period=10)"
   ]
  },
  {
   "cell_type": "markdown",
   "metadata": {},
   "source": [
    "## Training with early-stopping"
   ]
  },
  {
   "cell_type": "code",
   "execution_count": 7,
   "metadata": {},
   "outputs": [
    {
     "name": "stdout",
     "output_type": "stream",
     "text": [
      "*** Epoch: 1 ***\n",
      "Train Loss: 1.3877 --- Train Acc 25.46\n",
      "Valid Loss: 1.3857 --- Valid Acc: 27.78\n",
      "*** Epoch: 2 ***\n",
      "Train Loss: 1.3795 --- Train Acc 26.16\n",
      "Valid Loss: 1.3852 --- Valid Acc: 28.47\n",
      "*** Epoch: 3 ***\n",
      "Train Loss: 1.3679 --- Train Acc 31.94\n",
      "Valid Loss: 1.3846 --- Valid Acc: 30.56\n",
      "*** Epoch: 4 ***\n",
      "Train Loss: 1.3626 --- Train Acc 35.19\n",
      "Valid Loss: 1.3839 --- Valid Acc: 31.25\n",
      "*** Epoch: 5 ***\n",
      "Train Loss: 1.3553 --- Train Acc 34.03\n",
      "Valid Loss: 1.3831 --- Valid Acc: 31.25\n",
      "*** Epoch: 6 ***\n",
      "Train Loss: 1.3486 --- Train Acc 34.72\n",
      "Valid Loss: 1.3821 --- Valid Acc: 31.25\n",
      "*** Epoch: 7 ***\n",
      "Train Loss: 1.3382 --- Train Acc 35.88\n",
      "Valid Loss: 1.3805 --- Valid Acc: 31.25\n",
      "*** Epoch: 8 ***\n",
      "Train Loss: 1.3262 --- Train Acc 39.58\n",
      "Valid Loss: 1.3781 --- Valid Acc: 31.94\n",
      "*** Epoch: 9 ***\n",
      "Train Loss: 1.3220 --- Train Acc 38.89\n",
      "Valid Loss: 1.3741 --- Valid Acc: 32.64\n",
      "*** Epoch: 10 ***\n",
      "Train Loss: 1.3070 --- Train Acc 42.13\n",
      "Valid Loss: 1.3679 --- Valid Acc: 33.33\n",
      "*** Epoch: 11 ***\n",
      "Train Loss: 1.2951 --- Train Acc 42.59\n",
      "Valid Loss: 1.3591 --- Valid Acc: 35.42\n",
      "*** Epoch: 12 ***\n",
      "Train Loss: 1.2870 --- Train Acc 45.14\n",
      "Valid Loss: 1.3474 --- Valid Acc: 34.72\n",
      "*** Epoch: 13 ***\n",
      "Train Loss: 1.2639 --- Train Acc 49.54\n",
      "Valid Loss: 1.3327 --- Valid Acc: 34.03\n",
      "*** Epoch: 14 ***\n",
      "Train Loss: 1.2433 --- Train Acc 48.15\n",
      "Valid Loss: 1.3152 --- Valid Acc: 33.33\n",
      "*** Epoch: 15 ***\n",
      "Train Loss: 1.2278 --- Train Acc 50.23\n",
      "Valid Loss: 1.2954 --- Valid Acc: 34.72\n",
      "*** Epoch: 16 ***\n",
      "Train Loss: 1.2019 --- Train Acc 54.17\n",
      "Valid Loss: 1.2741 --- Valid Acc: 34.03\n"
     ]
    }
   ],
   "source": [
    "from models import EEGNet\n",
    "from fitting import train, EarlyStopping\n",
    "\n",
    "\n",
    "if torch.cuda.is_available():\n",
    "    target_device = 'cuda'\n",
    "else:\n",
    "    target_device = 'cpu'\n",
    "\n",
    "model  = EEGNet().to(target_device)\n",
    "e_stop = EarlyStopping(state=True, patience=5, attribute='acc')\n",
    "hist   = train(model, x_tr, y_tr, x_va, y_va, \n",
    "               batch_size=144, epochs=100,\n",
    "               learning_rate=0.001, period=1,\n",
    "               er_stop=e_stop)"
   ]
  },
  {
   "cell_type": "code",
   "execution_count": null,
   "metadata": {},
   "outputs": [],
   "source": []
  }
 ],
 "metadata": {
  "kernelspec": {
   "display_name": "Python 3",
   "language": "python",
   "name": "python3"
  },
  "language_info": {
   "codemirror_mode": {
    "name": "ipython",
    "version": 3
   },
   "file_extension": ".py",
   "mimetype": "text/x-python",
   "name": "python",
   "nbconvert_exporter": "python",
   "pygments_lexer": "ipython3",
   "version": "3.7.6"
  },
  "latex_envs": {
   "LaTeX_envs_menu_present": true,
   "autoclose": false,
   "autocomplete": true,
   "bibliofile": "biblio.bib",
   "cite_by": "apalike",
   "current_citInitial": 1,
   "eqLabelWithNumbers": true,
   "eqNumInitial": 1,
   "hotkeys": {
    "equation": "Ctrl-E",
    "itemize": "Ctrl-I"
   },
   "labels_anchors": false,
   "latex_user_defs": false,
   "report_style_numbering": false,
   "user_envs_cfg": false
  },
  "toc": {
   "base_numbering": 1,
   "nav_menu": {},
   "number_sections": true,
   "sideBar": true,
   "skip_h1_title": false,
   "title_cell": "Table of Contents",
   "title_sidebar": "Contents",
   "toc_cell": false,
   "toc_position": {},
   "toc_section_display": true,
   "toc_window_display": false
  },
  "varInspector": {
   "cols": {
    "lenName": 16,
    "lenType": 16,
    "lenVar": 40
   },
   "kernels_config": {
    "python": {
     "delete_cmd_postfix": "",
     "delete_cmd_prefix": "del ",
     "library": "var_list.py",
     "varRefreshCmd": "print(var_dic_list())"
    },
    "r": {
     "delete_cmd_postfix": ") ",
     "delete_cmd_prefix": "rm(",
     "library": "var_list.r",
     "varRefreshCmd": "cat(var_dic_list()) "
    }
   },
   "types_to_exclude": [
    "module",
    "function",
    "builtin_function_or_method",
    "instance",
    "_Feature"
   ],
   "window_display": false
  }
 },
 "nbformat": 4,
 "nbformat_minor": 4
}
