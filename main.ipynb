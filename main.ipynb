{
 "cells": [
  {
   "cell_type": "markdown",
   "metadata": {},
   "source": [
    "# Data"
   ]
  },
  {
   "cell_type": "markdown",
   "metadata": {},
   "source": [
    "## Download dataset"
   ]
  },
  {
   "cell_type": "code",
   "execution_count": 3,
   "metadata": {},
   "outputs": [
    {
     "name": "stdout",
     "output_type": "stream",
     "text": [
      "Subjects [1 2 3 4 5 6 7 8 9] are now in data\n"
     ]
    }
   ],
   "source": [
    "from datautils import downloader\n",
    "\n",
    "path  = 'data'\n",
    "dpath = downloader(path, subjects=list(range(1,10)))"
   ]
  },
  {
   "cell_type": "markdown",
   "metadata": {},
   "source": [
    "## Extracting .mat files"
   ]
  },
  {
   "cell_type": "code",
   "execution_count": 6,
   "metadata": {},
   "outputs": [
    {
     "name": "stdout",
     "output_type": "stream",
     "text": [
      "*** Shapes ***\n",
      "Samples:\t(288, 22, 1000)\n",
      "Labels:\t\t(288,)\n"
     ]
    }
   ],
   "source": [
    "from datautils import mat_extractor\n",
    "\n",
    "name   = 'A01T.mat'\n",
    "x1, y1 = mat_extractor(path=dpath/name)\n",
    "\n",
    "print (f'*** Shapes ***\\nSamples:\\t{x1.shape}\\nLabels:\\t\\t{y1.shape}')"
   ]
  },
  {
   "cell_type": "markdown",
   "metadata": {},
   "source": [
    "## cropping for augmentation"
   ]
  },
  {
   "cell_type": "code",
   "execution_count": 7,
   "metadata": {},
   "outputs": [
    {
     "name": "stdout",
     "output_type": "stream",
     "text": [
      "*** Shapes after cropping ***\n",
      "Samples:\t(576, 22, 500)\n",
      "Labels:\t\t(576,)\n"
     ]
    }
   ],
   "source": [
    "from datautils import cropper\n",
    "\n",
    "x1_c, y1_c = cropper(x1, y1, window=500, step=500)\n",
    "\n",
    "print (f'*** Shapes after cropping ***\\nSamples:\\t{x1_c.shape}\\nLabels:\\t\\t{y1_c.shape}')"
   ]
  },
  {
   "cell_type": "code",
   "execution_count": null,
   "metadata": {},
   "outputs": [],
   "source": []
  }
 ],
 "metadata": {
  "kernelspec": {
   "display_name": "Python 3",
   "language": "python",
   "name": "python3"
  },
  "language_info": {
   "codemirror_mode": {
    "name": "ipython",
    "version": 3
   },
   "file_extension": ".py",
   "mimetype": "text/x-python",
   "name": "python",
   "nbconvert_exporter": "python",
   "pygments_lexer": "ipython3",
   "version": "3.7.6"
  }
 },
 "nbformat": 4,
 "nbformat_minor": 4
}
