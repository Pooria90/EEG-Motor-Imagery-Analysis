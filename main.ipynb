{
 "cells": [
  {
   "cell_type": "markdown",
   "metadata": {},
   "source": [
    "# Data"
   ]
  },
  {
   "cell_type": "markdown",
   "metadata": {},
   "source": [
    "## Download dataset"
   ]
  },
  {
   "cell_type": "code",
   "execution_count": 1,
   "metadata": {},
   "outputs": [
    {
     "name": "stdout",
     "output_type": "stream",
     "text": [
      "Subjects [1 2 3 4 5 6 7 8 9] are now in data\n"
     ]
    }
   ],
   "source": [
    "from datautils import downloader\n",
    "\n",
    "path  = 'data'\n",
    "dpath = downloader(path, subjects=list(range(1,10)))"
   ]
  },
  {
   "cell_type": "markdown",
   "metadata": {},
   "source": [
    "## Extracting .mat files"
   ]
  },
  {
   "cell_type": "code",
   "execution_count": 2,
   "metadata": {},
   "outputs": [
    {
     "name": "stdout",
     "output_type": "stream",
     "text": [
      "*** Shapes ***\n",
      "x_train:\t(288, 22, 1000)\n",
      "y_train:\t(288,)\n",
      "x_test:\t\t(288, 22, 1000)\n",
      "y_test:\t\t(288,)\n"
     ]
    }
   ],
   "source": [
    "from datautils import mat_extractor\n",
    "\n",
    "tr_name = 'A01T.mat'\n",
    "te_name = 'A01E.mat'\n",
    "x_train, y_train = mat_extractor(path=dpath/tr_name)\n",
    "x_test , y_test  = mat_extractor(path=dpath/te_name)\n",
    "\n",
    "print (f'*** Shapes ***\\nx_train:\\t{x_train.shape}\\ny_train:\\t{y_train.shape}')\n",
    "print (f'x_test:\\t\\t{x_test.shape}\\ny_test:\\t\\t{y_test.shape}')"
   ]
  },
  {
   "cell_type": "markdown",
   "metadata": {},
   "source": [
    "## cropping for augmentation"
   ]
  },
  {
   "cell_type": "code",
   "execution_count": 3,
   "metadata": {},
   "outputs": [
    {
     "name": "stdout",
     "output_type": "stream",
     "text": [
      "*** Shapes ***\n",
      "x_train:\t(576, 22, 500)\n",
      "y_train:\t(576,)\n",
      "x_test:\t\t(576, 22, 500)\n",
      "y_test:\t\t(576,)\n"
     ]
    }
   ],
   "source": [
    "from datautils import cropper\n",
    "\n",
    "x_train, y_train = cropper(x_train, y_train, window=500, step=500)\n",
    "x_test , y_test  = cropper(x_test , y_test, window=500, step=500)\n",
    "\n",
    "print (f'*** Shapes ***\\nx_train:\\t{x_train.shape}\\ny_train:\\t{y_train.shape}')\n",
    "print (f'x_test:\\t\\t{x_test.shape}\\ny_test:\\t\\t{y_test.shape}')"
   ]
  },
  {
   "cell_type": "markdown",
   "metadata": {},
   "source": [
    "## Split for validation"
   ]
  },
  {
   "cell_type": "code",
   "execution_count": 14,
   "metadata": {},
   "outputs": [
    {
     "name": "stdout",
     "output_type": "stream",
     "text": [
      "(432, 22, 500) (144, 22, 500)\n"
     ]
    }
   ],
   "source": [
    "from sklearn.model_selection import train_test_split\n",
    "\n",
    "x_tr, x_va, y_tr, y_va = train_test_split(x_train, y_train-1, test_size=0.25, random_state=216, shuffle=True)\n",
    "\n",
    "print (x_tr.shape, x_va.shape)"
   ]
  },
  {
   "cell_type": "markdown",
   "metadata": {},
   "source": [
    "# EEGNet"
   ]
  },
  {
   "cell_type": "code",
   "execution_count": 15,
   "metadata": {},
   "outputs": [
    {
     "name": "stdout",
     "output_type": "stream",
     "text": [
      "torch.Size([432, 1, 22, 500]) torch.Size([144, 1, 22, 500])\n"
     ]
    }
   ],
   "source": [
    "import numpy as np\n",
    "import torch\n",
    "\n",
    "# adding a second dimension, becasue we have Conv2d in our structure\n",
    "x_tr = np.expand_dims(x_tr, axis=1)\n",
    "x_va = np.expand_dims(x_va, axis=1)\n",
    "\n",
    "x_tr, x_va, y_tr, y_va = map(torch.tensor, [x_tr, x_va, y_tr, y_va])\n",
    "print (x_tr.shape, x_va.shape)"
   ]
  },
  {
   "cell_type": "code",
   "execution_count": 27,
   "metadata": {},
   "outputs": [
    {
     "name": "stdout",
     "output_type": "stream",
     "text": [
      "*** Epoch: 1 ***\n",
      "Train Loss: 1.3886 --- Train Acc 25.23\n",
      "Valid Loss: 1.3861 --- Valid Acc: 29.17\n",
      "*** Epoch: 10 ***\n",
      "Train Loss: 1.2209 --- Train Acc 53.01\n",
      "Valid Loss: 1.2801 --- Valid Acc: 42.36\n",
      "*** Epoch: 20 ***\n",
      "Train Loss: 1.0246 --- Train Acc 54.17\n",
      "Valid Loss: 1.1013 --- Valid Acc: 45.14\n",
      "*** Epoch: 30 ***\n",
      "Train Loss: 0.9436 --- Train Acc 58.80\n",
      "Valid Loss: 1.0585 --- Valid Acc: 46.53\n",
      "*** Epoch: 40 ***\n",
      "Train Loss: 0.8861 --- Train Acc 65.05\n",
      "Valid Loss: 1.0323 --- Valid Acc: 49.31\n",
      "*** Epoch: 50 ***\n",
      "Train Loss: 0.8432 --- Train Acc 66.90\n",
      "Valid Loss: 0.9991 --- Valid Acc: 52.08\n",
      "*** Epoch: 60 ***\n",
      "Train Loss: 0.8035 --- Train Acc 69.68\n",
      "Valid Loss: 0.9640 --- Valid Acc: 54.17\n",
      "*** Epoch: 70 ***\n",
      "Train Loss: 0.7710 --- Train Acc 72.92\n",
      "Valid Loss: 0.9310 --- Valid Acc: 56.25\n",
      "*** Epoch: 80 ***\n",
      "Train Loss: 0.7238 --- Train Acc 73.15\n",
      "Valid Loss: 0.9075 --- Valid Acc: 59.72\n",
      "*** Epoch: 90 ***\n",
      "Train Loss: 0.7151 --- Train Acc 71.53\n",
      "Valid Loss: 0.9020 --- Valid Acc: 60.42\n",
      "*** Epoch: 100 ***\n",
      "Train Loss: 0.6772 --- Train Acc 75.69\n",
      "Valid Loss: 0.8792 --- Valid Acc: 58.33\n"
     ]
    }
   ],
   "source": [
    "from models import EEGNet\n",
    "from fitting import train\n",
    "\n",
    "if torch.cuda.is_available():\n",
    "    target_device = 'cuda'\n",
    "else:\n",
    "    target_device = 'cpu'\n",
    "    \n",
    "model = EEGNet().to(target_device)\n",
    "hist = train(model, x_tr, y_tr, x_va, y_va, batch_size=144, epochs=100, learning_rate=0.001, period=10)"
   ]
  },
  {
   "cell_type": "code",
   "execution_count": null,
   "metadata": {},
   "outputs": [],
   "source": []
  }
 ],
 "metadata": {
  "kernelspec": {
   "display_name": "Python 3",
   "language": "python",
   "name": "python3"
  },
  "language_info": {
   "codemirror_mode": {
    "name": "ipython",
    "version": 3
   },
   "file_extension": ".py",
   "mimetype": "text/x-python",
   "name": "python",
   "nbconvert_exporter": "python",
   "pygments_lexer": "ipython3",
   "version": "3.7.6"
  },
  "latex_envs": {
   "LaTeX_envs_menu_present": true,
   "autoclose": false,
   "autocomplete": true,
   "bibliofile": "biblio.bib",
   "cite_by": "apalike",
   "current_citInitial": 1,
   "eqLabelWithNumbers": true,
   "eqNumInitial": 1,
   "hotkeys": {
    "equation": "Ctrl-E",
    "itemize": "Ctrl-I"
   },
   "labels_anchors": false,
   "latex_user_defs": false,
   "report_style_numbering": false,
   "user_envs_cfg": false
  },
  "toc": {
   "base_numbering": 1,
   "nav_menu": {},
   "number_sections": true,
   "sideBar": true,
   "skip_h1_title": false,
   "title_cell": "Table of Contents",
   "title_sidebar": "Contents",
   "toc_cell": false,
   "toc_position": {},
   "toc_section_display": true,
   "toc_window_display": false
  },
  "varInspector": {
   "cols": {
    "lenName": 16,
    "lenType": 16,
    "lenVar": 40
   },
   "kernels_config": {
    "python": {
     "delete_cmd_postfix": "",
     "delete_cmd_prefix": "del ",
     "library": "var_list.py",
     "varRefreshCmd": "print(var_dic_list())"
    },
    "r": {
     "delete_cmd_postfix": ") ",
     "delete_cmd_prefix": "rm(",
     "library": "var_list.r",
     "varRefreshCmd": "cat(var_dic_list()) "
    }
   },
   "types_to_exclude": [
    "module",
    "function",
    "builtin_function_or_method",
    "instance",
    "_Feature"
   ],
   "window_display": false
  }
 },
 "nbformat": 4,
 "nbformat_minor": 4
}
